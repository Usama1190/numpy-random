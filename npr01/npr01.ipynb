{
 "cells": [
  {
   "cell_type": "markdown",
   "id": "a3b37d39",
   "metadata": {},
   "source": [
    "# Numpy Random"
   ]
  },
  {
   "cell_type": "code",
   "execution_count": null,
   "id": "ce2002ea",
   "metadata": {
    "vscode": {
     "languageId": "plaintext"
    }
   },
   "outputs": [],
   "source": []
  }
 ],
 "metadata": {
  "language_info": {
   "name": "python"
  }
 },
 "nbformat": 4,
 "nbformat_minor": 5
}
